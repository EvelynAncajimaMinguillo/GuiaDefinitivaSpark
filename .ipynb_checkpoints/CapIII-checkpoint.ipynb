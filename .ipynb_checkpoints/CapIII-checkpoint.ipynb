{
 "cells": [
  {
   "cell_type": "code",
   "execution_count": 1,
   "metadata": {
    "collapsed": true
   },
   "outputs": [],
   "source": [
    "import findspark\n",
    "findspark.init()\n",
    "import pyspark"
   ]
  },
  {
   "cell_type": "code",
   "execution_count": 2,
   "metadata": {
    "collapsed": true
   },
   "outputs": [],
   "source": [
    "# Inicializando la Spark Session\n",
    "spark = pyspark.sql.SparkSession.builder.getOrCreate() "
   ]
  },
  {
   "cell_type": "markdown",
   "metadata": {},
   "source": [
    "###  Streaming Estructurado"
   ]
  },
  {
   "cell_type": "markdown",
   "metadata": {},
   "source": [
    "#### DataFrame Estático"
   ]
  },
  {
   "cell_type": "code",
   "execution_count": 3,
   "metadata": {
    "collapsed": true
   },
   "outputs": [],
   "source": [
    "staticDataFrame = spark.read.format(\"csv\").option(\"header\", \"true\")\\\n",
    ".option(\"inferSchema\", \"true\").load(\"D:/APRENDER/Spark/Spark-The-Definitive-Guide-master/data/retail-data/by-day/*.csv\")\n",
    "\n",
    "staticDataFrame.createOrReplaceTempView(\"retail_data\")\n",
    "staticSchema = staticDataFrame.schema"
   ]
  },
  {
   "cell_type": "code",
   "execution_count": 4,
   "metadata": {},
   "outputs": [
    {
     "name": "stdout",
     "output_type": "stream",
     "text": [
      "+----------+--------------------+-----------------+\n",
      "|CustomerId|              window|  sum(total_cost)|\n",
      "+----------+--------------------+-----------------+\n",
      "|   16057.0|[2011-12-04 19:00...|            -37.6|\n",
      "|   14126.0|[2011-11-28 19:00...|643.6300000000001|\n",
      "|   13500.0|[2011-11-15 19:00...|497.9700000000001|\n",
      "|   17160.0|[2011-11-07 19:00...|516.8499999999999|\n",
      "|   15608.0|[2011-11-10 19:00...|            122.4|\n",
      "|   15253.0|[2011-11-22 19:00...|            277.6|\n",
      "+----------+--------------------+-----------------+\n",
      "only showing top 6 rows\n",
      "\n"
     ]
    }
   ],
   "source": [
    "\"\"\"En este ejemplo veremos las horas de venta durante las cuales \n",
    "un cliente determinado (CustomerId) hace una compra grande, con costo\n",
    "total sabremos qué días el cliente gastó más, la función ventana incluirá\n",
    "los datos de c/día en la agrgación\"\"\"\n",
    "\n",
    "from pyspark.sql.functions import window, column, desc, col\n",
    "staticDataFrame.selectExpr(\"CustomerId\", \n",
    "                           \"(UnitPrice * Quantity) as total_cost\",\n",
    "                          \"InvoiceDate\")\\\n",
    ".groupBy(col(\"CustomerId\"), window(col(\"InvoiceDate\"),\"1 day\"))\\\n",
    ".sum(\"total_cost\").show(6)"
   ]
  },
  {
   "cell_type": "code",
   "execution_count": 5,
   "metadata": {
    "collapsed": true
   },
   "outputs": [],
   "source": [
    "# Por defecto son 200 particiones, pero lo pondremos solo en 5\n",
    "spark.conf.set(\"spark.sql.shuffle.partitions\", \"5\")"
   ]
  },
  {
   "cell_type": "markdown",
   "metadata": {},
   "source": [
    "#### DataFrame Streaming"
   ]
  },
  {
   "cell_type": "code",
   "execution_count": 6,
   "metadata": {
    "collapsed": true
   },
   "outputs": [],
   "source": [
    "streamingDataFrame = spark.readStream.schema(staticSchema)\\\n",
    ".option(\"maxFilesPerTrigger\", 1).format(\"csv\")\\\n",
    ".option(\"header\", \"true\")\\\n",
    ".load(\"D:/APRENDER/Spark/Spark-The-Definitive-Guide-master/data/retail-data/by-day/*.csv\")"
   ]
  },
  {
   "cell_type": "code",
   "execution_count": 7,
   "metadata": {},
   "outputs": [
    {
     "data": {
      "text/plain": [
       "True"
      ]
     },
     "execution_count": 7,
     "metadata": {},
     "output_type": "execute_result"
    }
   ],
   "source": [
    "# Verificamos si nuestro DataFrame está transmitiendo\n",
    "streamingDataFrame.isStreaming"
   ]
  },
  {
   "cell_type": "code",
   "execution_count": 8,
   "metadata": {
    "collapsed": true
   },
   "outputs": [],
   "source": [
    "purchaseByCustomerPerHour = streamingDataFrame\\\n",
    ".selectExpr(\n",
    "    \"CustomerId\",\n",
    "    \"(UnitPrice * Quantity) as total_cost\",\n",
    "    \"InvoiceDate\")\\\n",
    ".groupBy(\n",
    "col(\"CustomerId\"), window(col(\"InvoiceDate\"), \"1 day\"))\\\n",
    ".sum(\"total_cost\")    "
   ]
  },
  {
   "cell_type": "code",
   "execution_count": 9,
   "metadata": {},
   "outputs": [
    {
     "data": {
      "text/plain": [
       "<pyspark.sql.streaming.StreamingQuery at 0x25ee75ab6d8>"
      ]
     },
     "execution_count": 9,
     "metadata": {},
     "output_type": "execute_result"
    }
   ],
   "source": [
    "purchaseByCustomerPerHour.writeStream.format(\"memory\")\\\n",
    ".queryName(\"customer_purchases\").outputMode(\"complete\")\\\n",
    ".start()"
   ]
  },
  {
   "cell_type": "code",
   "execution_count": null,
   "metadata": {
    "collapsed": true
   },
   "outputs": [],
   "source": []
  }
 ],
 "metadata": {
  "kernelspec": {
   "display_name": "Python 3",
   "language": "python",
   "name": "python3"
  },
  "language_info": {
   "codemirror_mode": {
    "name": "ipython",
    "version": 3
   },
   "file_extension": ".py",
   "mimetype": "text/x-python",
   "name": "python",
   "nbconvert_exporter": "python",
   "pygments_lexer": "ipython3",
   "version": "3.6.3"
  }
 },
 "nbformat": 4,
 "nbformat_minor": 2
}
